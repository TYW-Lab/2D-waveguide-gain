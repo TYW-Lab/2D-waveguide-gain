{
 "cells": [
  {
   "cell_type": "code",
   "execution_count": 4,
   "id": "d9abd123-2b50-4075-96ce-2f8a606db2fb",
   "metadata": {},
   "outputs": [
    {
     "ename": "ModuleNotFoundError",
     "evalue": "No module named 'tdwg'",
     "output_type": "error",
     "traceback": [
      "\u001b[1;31m---------------------------------------------------------------------------\u001b[0m",
      "\u001b[1;31mModuleNotFoundError\u001b[0m                       Traceback (most recent call last)",
      "Cell \u001b[1;32mIn[4], line 1\u001b[0m\n\u001b[1;32m----> 1\u001b[0m \u001b[38;5;28;01mfrom\u001b[39;00m \u001b[38;5;21;01mtdwg\u001b[39;00m\u001b[38;5;21;01m.\u001b[39;00m\u001b[38;5;21;01mlib\u001b[39;00m\u001b[38;5;21;01m.\u001b[39;00m\u001b[38;5;21;01mDMD_patterns\u001b[39;00m \u001b[38;5;28;01mimport\u001b[39;00m generate_curved_waveguide\n",
      "\u001b[1;31mModuleNotFoundError\u001b[0m: No module named 'tdwg'"
     ]
    }
   ],
   "source": [
    "from tdwg.lib.DMD_patterns import generate_curved_waveguide"
   ]
  },
  {
   "cell_type": "code",
   "execution_count": 5,
   "id": "50b03dfe-d8f0-423e-a7c1-12385acd4cba",
   "metadata": {},
   "outputs": [
    {
     "data": {
      "text/plain": [
       "['C:\\\\Users\\\\jthqw\\\\AppData\\\\Local\\\\Programs\\\\Python\\\\Python311\\\\python311.zip',\n",
       " 'C:\\\\Users\\\\jthqw\\\\AppData\\\\Local\\\\Programs\\\\Python\\\\Python311\\\\DLLs',\n",
       " 'C:\\\\Users\\\\jthqw\\\\AppData\\\\Local\\\\Programs\\\\Python\\\\Python311\\\\Lib',\n",
       " 'C:\\\\Users\\\\jthqw\\\\AppData\\\\Local\\\\Programs\\\\Python\\\\Python311',\n",
       " 'C:\\\\Users\\\\jthqw\\\\myenv',\n",
       " '',\n",
       " 'C:\\\\Users\\\\jthqw\\\\myenv\\\\Lib\\\\site-packages',\n",
       " 'C:\\\\Users\\\\jthqw\\\\myenv\\\\Lib\\\\site-packages\\\\win32',\n",
       " 'C:\\\\Users\\\\jthqw\\\\myenv\\\\Lib\\\\site-packages\\\\win32\\\\lib',\n",
       " 'C:\\\\Users\\\\jthqw\\\\myenv\\\\Lib\\\\site-packages\\\\Pythonwin']"
      ]
     },
     "execution_count": 5,
     "metadata": {},
     "output_type": "execute_result"
    }
   ],
   "source": [
    "import sys\n",
    "sys.path"
   ]
  },
  {
   "cell_type": "code",
   "execution_count": 6,
   "id": "6df1ccf8-563c-4c4d-9a8b-781888dfa78b",
   "metadata": {},
   "outputs": [
    {
     "data": {
      "text/plain": [
       "'C:\\\\Users\\\\jthqw\\\\Documents\\\\BU\\\\EC770 Guided-wave Optoelectronics (Fall 2024)\\\\2D-programmable-waveguide-master\\\\examples\\\\tdwg'"
      ]
     },
     "execution_count": 6,
     "metadata": {},
     "output_type": "execute_result"
    }
   ],
   "source": [
    "import os\n",
    "os.getcwd()"
   ]
  },
  {
   "cell_type": "code",
   "execution_count": null,
   "id": "163ec245-c8b4-4458-8d4f-4a7a1d3f853e",
   "metadata": {},
   "outputs": [],
   "source": []
  }
 ],
 "metadata": {
  "kernelspec": {
   "display_name": "Python C:\\Users\\jthqw\\myenv\\Scripts\\python.exe",
   "language": "python",
   "name": "myenv"
  },
  "language_info": {
   "codemirror_mode": {
    "name": "ipython",
    "version": 3
   },
   "file_extension": ".py",
   "mimetype": "text/x-python",
   "name": "python",
   "nbconvert_exporter": "python",
   "pygments_lexer": "ipython3",
   "version": "3.11.9"
  }
 },
 "nbformat": 4,
 "nbformat_minor": 5
}
